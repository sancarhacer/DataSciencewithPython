{
  "nbformat": 4,
  "nbformat_minor": 0,
  "metadata": {
    "colab": {
      "provenance": [],
      "authorship_tag": "ABX9TyOMqFKlFtZgAWuzWiFDuKez",
      "include_colab_link": true
    },
    "kernelspec": {
      "name": "python3",
      "display_name": "Python 3"
    },
    "language_info": {
      "name": "python"
    }
  },
  "cells": [
    {
      "cell_type": "markdown",
      "metadata": {
        "id": "view-in-github",
        "colab_type": "text"
      },
      "source": [
        "<a href=\"https://colab.research.google.com/github/sancarhacer/DataSciencewithPython/blob/main/15-Files.ipynb\" target=\"_parent\"><img src=\"https://colab.research.google.com/assets/colab-badge.svg\" alt=\"Open In Colab\"/></a>"
      ]
    },
    {
      "cell_type": "code",
      "execution_count": 1,
      "metadata": {
        "colab": {
          "base_uri": "https://localhost:8080/"
        },
        "id": "uVVgsxyaa6PE",
        "outputId": "0aa71cdc-5f12-4ac4-abc1-da77a070ba1a"
      },
      "outputs": [
        {
          "output_type": "stream",
          "name": "stdout",
          "text": [
            "Overwriting myfile.txt\n"
          ]
        }
      ],
      "source": [
        "%%writefile myfile.txt\n",
        "test 1\n",
        "test 2\n",
        "test 3"
      ]
    },
    {
      "cell_type": "code",
      "source": [
        "myFile = open(\"myfile.txt\")\n",
        "# 'open()' fonksiyonu ile dosyayı varsayılan olarak 'r' (read/oku) modunda açar."
      ],
      "metadata": {
        "id": "YHQHgk5XezSo"
      },
      "execution_count": 2,
      "outputs": []
    },
    {
      "cell_type": "code",
      "source": [
        "type(myFile)"
      ],
      "metadata": {
        "colab": {
          "base_uri": "https://localhost:8080/"
        },
        "id": "hm0mYaFeezL8",
        "outputId": "fa77cd6f-6ae7-44db-96b6-66ad1cab2480"
      },
      "execution_count": 3,
      "outputs": [
        {
          "output_type": "execute_result",
          "data": {
            "text/plain": [
              "_io.TextIOWrapper"
            ]
          },
          "metadata": {},
          "execution_count": 3
        }
      ]
    },
    {
      "cell_type": "code",
      "source": [
        " # Dosyanın tüm içeriğini okur ve bir string olarak döndürür.\n",
        "myFile.read()"
      ],
      "metadata": {
        "colab": {
          "base_uri": "https://localhost:8080/",
          "height": 36
        },
        "id": "34BF9mGGe9fS",
        "outputId": "edca5a6b-6ab1-4072-d414-999d7eba05ee"
      },
      "execution_count": 4,
      "outputs": [
        {
          "output_type": "execute_result",
          "data": {
            "text/plain": [
              "'test 1\\ntest 2\\ntest 3\\n'"
            ],
            "application/vnd.google.colaboratory.intrinsic+json": {
              "type": "string"
            }
          },
          "metadata": {},
          "execution_count": 4
        }
      ]
    },
    {
      "cell_type": "code",
      "source": [
        "myFile.read()\n",
        "# Dosya okuma işlemi bittikten sonra imleç (cursor) dosyanın sonundadır.\n",
        "# Bu nedenle ikinci kez okuma çağrısı boş bir string döndürür."
      ],
      "metadata": {
        "colab": {
          "base_uri": "https://localhost:8080/",
          "height": 36
        },
        "id": "oTGT7owje_1j",
        "outputId": "d347f505-19c9-45ed-9865-72e3dbf03ebb"
      },
      "execution_count": 5,
      "outputs": [
        {
          "output_type": "execute_result",
          "data": {
            "text/plain": [
              "''"
            ],
            "application/vnd.google.colaboratory.intrinsic+json": {
              "type": "string"
            }
          },
          "metadata": {},
          "execution_count": 5
        }
      ]
    },
    {
      "cell_type": "code",
      "source": [
        "# Dosya imlecini (cursor) başlangıca (0. bayt) geri taşır.\n",
        "myFile.seek(0)"
      ],
      "metadata": {
        "colab": {
          "base_uri": "https://localhost:8080/"
        },
        "id": "owtOULPyfE-L",
        "outputId": "63a62842-cc4a-4d5b-f508-2de2324d31dc"
      },
      "execution_count": 6,
      "outputs": [
        {
          "output_type": "execute_result",
          "data": {
            "text/plain": [
              "0"
            ]
          },
          "metadata": {},
          "execution_count": 6
        }
      ]
    },
    {
      "cell_type": "code",
      "source": [
        "myFile.read()"
      ],
      "metadata": {
        "colab": {
          "base_uri": "https://localhost:8080/",
          "height": 36
        },
        "id": "wyemq4yMfG0j",
        "outputId": "017b0644-9633-4b93-8799-7b7f786b6c96"
      },
      "execution_count": 7,
      "outputs": [
        {
          "output_type": "execute_result",
          "data": {
            "text/plain": [
              "'test 1\\ntest 2\\ntest 3\\n'"
            ],
            "application/vnd.google.colaboratory.intrinsic+json": {
              "type": "string"
            }
          },
          "metadata": {},
          "execution_count": 7
        }
      ]
    },
    {
      "cell_type": "code",
      "source": [
        "# Açık olan dosya bağlantısını kapatır. Dosya işlemleri bittiğinde bu zorunludur.\n",
        "myFile.close()"
      ],
      "metadata": {
        "id": "D0ulff-efJBL"
      },
      "execution_count": 8,
      "outputs": []
    },
    {
      "cell_type": "code",
      "source": [
        "# 'with open' yapısı, dosya işlemleri bittiğinde dosyanın otomatik olarak kapatılmasını (myFile.close() ihtiyacı olmadan) garantiler.\n",
        "with open(\"myfile.txt\") as myFile:\n",
        "    myContent = myFile.read() # Dosyayı oku ve içeriğini 'myContent' değişkenine ata.\n",
        "\n",
        "myContent\n"
      ],
      "metadata": {
        "colab": {
          "base_uri": "https://localhost:8080/",
          "height": 36
        },
        "id": "3Hr52IbefLXm",
        "outputId": "14329282-34b5-4ad5-883d-c09519a2f3d4"
      },
      "execution_count": 9,
      "outputs": [
        {
          "output_type": "execute_result",
          "data": {
            "text/plain": [
              "'test 1\\ntest 2\\ntest 3\\n'"
            ],
            "application/vnd.google.colaboratory.intrinsic+json": {
              "type": "string"
            }
          },
          "metadata": {},
          "execution_count": 9
        }
      ]
    },
    {
      "cell_type": "code",
      "source": [
        "myContent"
      ],
      "metadata": {
        "colab": {
          "base_uri": "https://localhost:8080/",
          "height": 36
        },
        "id": "4mFfL_r7fW3e",
        "outputId": "60161504-a0e2-4d4f-d2e8-776730674b7a"
      },
      "execution_count": 10,
      "outputs": [
        {
          "output_type": "execute_result",
          "data": {
            "text/plain": [
              "'test 1\\ntest 2\\ntest 3\\n'"
            ],
            "application/vnd.google.colaboratory.intrinsic+json": {
              "type": "string"
            }
          },
          "metadata": {},
          "execution_count": 10
        }
      ]
    },
    {
      "cell_type": "code",
      "source": [
        "# mode=\"w\" (write): Dosyayı yazma modunda açar. Eğer dosya varsa, İÇERİĞİNİ TAMAMEN SİLER ve sıfırdan yazmaya başlar!\n",
        "with open(\"myfile.txt\", mode=\"w\") as myNewFile:\n",
        "    myNewFile.write(\"test 4\") # Dosyanın içine sadece \"test 4\" yazar. Eski içerik silinmiştir.\n"
      ],
      "metadata": {
        "id": "mym8Gm8lfcUh"
      },
      "execution_count": 11,
      "outputs": []
    },
    {
      "cell_type": "code",
      "source": [
        "myNewFile"
      ],
      "metadata": {
        "colab": {
          "base_uri": "https://localhost:8080/"
        },
        "id": "EGTpg72ofsKu",
        "outputId": "de3c3662-a8c5-4468-e8d3-dcbf108e03fb"
      },
      "execution_count": 12,
      "outputs": [
        {
          "output_type": "execute_result",
          "data": {
            "text/plain": [
              "<_io.TextIOWrapper name='myfile.txt' mode='w' encoding='utf-8'>"
            ]
          },
          "metadata": {},
          "execution_count": 12
        }
      ]
    },
    {
      "cell_type": "code",
      "source": [
        "with open(\"myfile.txt\",mode=\"r\") as myFile2:\n",
        "    myContent = myFile2.read()\n",
        "myContent"
      ],
      "metadata": {
        "colab": {
          "base_uri": "https://localhost:8080/",
          "height": 36
        },
        "id": "W8wNsDtWfw5a",
        "outputId": "cbc4bf71-10f2-4187-d224-4ae05c18625f"
      },
      "execution_count": 13,
      "outputs": [
        {
          "output_type": "execute_result",
          "data": {
            "text/plain": [
              "'test 4'"
            ],
            "application/vnd.google.colaboratory.intrinsic+json": {
              "type": "string"
            }
          },
          "metadata": {},
          "execution_count": 13
        }
      ]
    },
    {
      "cell_type": "markdown",
      "source": [
        "## w -> write, r->read, a->append"
      ],
      "metadata": {
        "id": "rDtIo1vMgCZD"
      }
    },
    {
      "cell_type": "code",
      "source": [
        "## DOSYA MODLARI ÖZETİ\n",
        "## ----------------------------------------------------------------------\n",
        "## w -> write (Yazma): İçeriği siler ve yeniden yazar.\n",
        "## r -> read (Okuma): Sadece okuma yapar.\n",
        "## a -> append (Ekleme): Dosyanın SONUNA ekleme yapar, eski içeriği korur."
      ],
      "metadata": {
        "id": "BiMbcOcHgypX"
      },
      "execution_count": 14,
      "outputs": []
    },
    {
      "cell_type": "code",
      "source": [
        "# mode=\"a\" (append): Dosyayı ekleme modunda açar. İmleç dosyanın sonundadır.\n",
        "with open(\"myfile.txt\", mode = \"a\") as myFileappend:\n",
        "  myFileappend.write(\"\\ntest6\")"
      ],
      "metadata": {
        "id": "L3_ziYnmf_oT"
      },
      "execution_count": 15,
      "outputs": []
    },
    {
      "cell_type": "code",
      "source": [
        "with open(\"myfile.txt\", mode = \"r\") as myFileappend:\n",
        "  myNewContent = myFileappend.read()"
      ],
      "metadata": {
        "id": "sKslsK1CgQ-q"
      },
      "execution_count": 16,
      "outputs": []
    },
    {
      "cell_type": "code",
      "source": [
        "myNewContent"
      ],
      "metadata": {
        "colab": {
          "base_uri": "https://localhost:8080/",
          "height": 36
        },
        "id": "UBRucKjEgcwO",
        "outputId": "f0fb04f1-3131-492a-9b51-276ddc42e89e"
      },
      "execution_count": 17,
      "outputs": [
        {
          "output_type": "execute_result",
          "data": {
            "text/plain": [
              "'test 4\\ntest6'"
            ],
            "application/vnd.google.colaboratory.intrinsic+json": {
              "type": "string"
            }
          },
          "metadata": {},
          "execution_count": 17
        }
      ]
    },
    {
      "cell_type": "code",
      "source": [],
      "metadata": {
        "id": "NBcU45oOglse"
      },
      "execution_count": 17,
      "outputs": []
    }
  ]
}