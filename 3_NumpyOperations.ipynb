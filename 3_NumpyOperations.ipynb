{
  "nbformat": 4,
  "nbformat_minor": 0,
  "metadata": {
    "colab": {
      "provenance": [],
      "authorship_tag": "ABX9TyOkt/XVa+YcByWIr5NomgVo",
      "include_colab_link": true
    },
    "kernelspec": {
      "name": "python3",
      "display_name": "Python 3"
    },
    "language_info": {
      "name": "python"
    }
  },
  "cells": [
    {
      "cell_type": "markdown",
      "metadata": {
        "id": "view-in-github",
        "colab_type": "text"
      },
      "source": [
        "<a href=\"https://colab.research.google.com/github/sancarhacer/DataSciencewithPython/blob/main/3_NumpyOperations.ipynb\" target=\"_parent\"><img src=\"https://colab.research.google.com/assets/colab-badge.svg\" alt=\"Open In Colab\"/></a>"
      ]
    },
    {
      "cell_type": "code",
      "source": [
        "import numpy as np\n",
        "new_array = np.random.randint(1,100,20)\n",
        "new_array"
      ],
      "metadata": {
        "colab": {
          "base_uri": "https://localhost:8080/"
        },
        "id": "jTpakY8bUJUB",
        "outputId": "eb07818c-d735-4002-f18f-f613fc6eb472"
      },
      "execution_count": null,
      "outputs": [
        {
          "output_type": "execute_result",
          "data": {
            "text/plain": [
              "array([81,  1, 42, 23, 18, 66, 31, 24, 97, 46, 14, 20, 35, 55,  7, 42, 38,\n",
              "       42,  4, 18])"
            ]
          },
          "metadata": {},
          "execution_count": 1
        }
      ]
    },
    {
      "cell_type": "code",
      "source": [
        "new_array >25"
      ],
      "metadata": {
        "colab": {
          "base_uri": "https://localhost:8080/"
        },
        "id": "v9lqqPKeUK5L",
        "outputId": "e963d687-2c76-40a6-80e9-9c21d9711619"
      },
      "execution_count": null,
      "outputs": [
        {
          "output_type": "execute_result",
          "data": {
            "text/plain": [
              "array([ True, False,  True, False, False,  True,  True, False,  True,\n",
              "        True, False, False,  True,  True, False,  True,  True,  True,\n",
              "       False, False])"
            ]
          },
          "metadata": {},
          "execution_count": 2
        }
      ]
    },
    {
      "cell_type": "code",
      "source": [
        "new_array[new_array > 25]"
      ],
      "metadata": {
        "colab": {
          "base_uri": "https://localhost:8080/"
        },
        "id": "Rf-UwGVdUPC3",
        "outputId": "a6e96cf2-fefe-4dc8-9e20-560401989015"
      },
      "execution_count": null,
      "outputs": [
        {
          "output_type": "execute_result",
          "data": {
            "text/plain": [
              "array([81, 42, 66, 31, 97, 46, 35, 55, 42, 38, 42])"
            ]
          },
          "metadata": {},
          "execution_count": 3
        }
      ]
    },
    {
      "cell_type": "code",
      "source": [
        "#transpose & reshape"
      ],
      "metadata": {
        "id": "rR0sdOoxUsKZ"
      },
      "execution_count": null,
      "outputs": []
    },
    {
      "cell_type": "code",
      "source": [
        "matrix_array = np.array([[10,20],[20,30],[30,40]])\n",
        "matrix_array"
      ],
      "metadata": {
        "colab": {
          "base_uri": "https://localhost:8080/"
        },
        "id": "STFWLe2qUT8b",
        "outputId": "ec6c48be-43cf-4f4d-caee-1cf9b6950036"
      },
      "execution_count": null,
      "outputs": [
        {
          "output_type": "execute_result",
          "data": {
            "text/plain": [
              "array([[10, 20],\n",
              "       [20, 30],\n",
              "       [30, 40]])"
            ]
          },
          "metadata": {},
          "execution_count": 5
        }
      ]
    },
    {
      "cell_type": "code",
      "source": [
        "matrix_array.transpose()"
      ],
      "metadata": {
        "colab": {
          "base_uri": "https://localhost:8080/"
        },
        "id": "jL6tuaYiUq7h",
        "outputId": "9199f661-bd58-485a-b299-e725411dae85"
      },
      "execution_count": null,
      "outputs": [
        {
          "output_type": "execute_result",
          "data": {
            "text/plain": [
              "array([[10, 20, 30],\n",
              "       [20, 30, 40]])"
            ]
          },
          "metadata": {},
          "execution_count": 6
        }
      ]
    },
    {
      "cell_type": "code",
      "source": [
        "matrix_array.T"
      ],
      "metadata": {
        "colab": {
          "base_uri": "https://localhost:8080/"
        },
        "id": "Khx6IET3UyI5",
        "outputId": "31de4d75-1f81-482b-fd7c-ec2bf99b4230"
      },
      "execution_count": null,
      "outputs": [
        {
          "output_type": "execute_result",
          "data": {
            "text/plain": [
              "array([[10, 20, 30],\n",
              "       [20, 30, 40]])"
            ]
          },
          "metadata": {},
          "execution_count": 7
        }
      ]
    },
    {
      "cell_type": "code",
      "source": [
        "random_array = np.random.random((6,1))\n",
        "random_array"
      ],
      "metadata": {
        "colab": {
          "base_uri": "https://localhost:8080/"
        },
        "id": "EIzCdrnfU2BS",
        "outputId": "3474ccfe-8198-42c2-c470-10c04b5922c7"
      },
      "execution_count": null,
      "outputs": [
        {
          "output_type": "execute_result",
          "data": {
            "text/plain": [
              "array([[0.93943791],\n",
              "       [0.95725079],\n",
              "       [0.80935847],\n",
              "       [0.41287476],\n",
              "       [0.20621673],\n",
              "       [0.56230958]])"
            ]
          },
          "metadata": {},
          "execution_count": 9
        }
      ]
    },
    {
      "cell_type": "code",
      "source": [
        "random_array.reshape(3,2)"
      ],
      "metadata": {
        "colab": {
          "base_uri": "https://localhost:8080/"
        },
        "id": "qhrtrtz0U52m",
        "outputId": "3742c87e-9ae0-458e-996d-cf84bd069262"
      },
      "execution_count": null,
      "outputs": [
        {
          "output_type": "execute_result",
          "data": {
            "text/plain": [
              "array([[0.93943791, 0.95725079],\n",
              "       [0.80935847, 0.41287476],\n",
              "       [0.20621673, 0.56230958]])"
            ]
          },
          "metadata": {},
          "execution_count": 10
        }
      ]
    },
    {
      "cell_type": "code",
      "source": [
        "# real life cases\n",
        "data = np.array([10, 12, 13, 15, 18, 25, 100, 105])\n",
        "# Compute Z-scores\n",
        "mean = np.mean(data)\n",
        "std = np.std(data)\n",
        "z_scores = (data - mean) / std\n",
        "z_scores"
      ],
      "metadata": {
        "colab": {
          "base_uri": "https://localhost:8080/"
        },
        "id": "9cF4wifxVFyH",
        "outputId": "a6734a23-06cc-4398-d5f4-6f1378379de3"
      },
      "execution_count": null,
      "outputs": [
        {
          "output_type": "execute_result",
          "data": {
            "text/plain": [
              "array([-0.71836562, -0.66564154, -0.6392795 , -0.58655542, -0.50746929,\n",
              "       -0.322935  ,  1.65421809,  1.78602829])"
            ]
          },
          "metadata": {},
          "execution_count": 11
        }
      ]
    },
    {
      "cell_type": "code",
      "source": [
        "np.abs(z_scores) > 1"
      ],
      "metadata": {
        "colab": {
          "base_uri": "https://localhost:8080/"
        },
        "id": "SUHUR_btVKnG",
        "outputId": "62274563-993f-4db2-a7f0-6a4c58d9bd72"
      },
      "execution_count": null,
      "outputs": [
        {
          "output_type": "execute_result",
          "data": {
            "text/plain": [
              "array([False, False, False, False, False, False,  True,  True])"
            ]
          },
          "metadata": {},
          "execution_count": 12
        }
      ]
    },
    {
      "cell_type": "code",
      "source": [
        "outliers = data[np.abs(z_scores)>1]\n",
        "outliers"
      ],
      "metadata": {
        "colab": {
          "base_uri": "https://localhost:8080/"
        },
        "id": "WiN4eVSrVMO5",
        "outputId": "ecefd707-0a06-44af-e944-751425e28816"
      },
      "execution_count": null,
      "outputs": [
        {
          "output_type": "execute_result",
          "data": {
            "text/plain": [
              "array([100, 105])"
            ]
          },
          "metadata": {},
          "execution_count": 13
        }
      ]
    },
    {
      "cell_type": "code",
      "source": [
        "# math equations\n",
        "# Solve 2x + 3y = 8 and 5x + 7y = 19\n",
        "# Coefficients matrix\n",
        "A = np.array([[2, 3], [5, 7]])\n",
        "# Constants matrix\n",
        "b = np.array([8, 19])\n",
        "# Solve for x and y\n",
        "solution = np.linalg.solve(A, b)\n",
        "solution"
      ],
      "metadata": {
        "colab": {
          "base_uri": "https://localhost:8080/"
        },
        "id": "XCsoWY3kVZnK",
        "outputId": "9266b897-1886-4c19-8503-3e0c43da1fbb"
      },
      "execution_count": null,
      "outputs": [
        {
          "output_type": "execute_result",
          "data": {
            "text/plain": [
              "array([1., 2.])"
            ]
          },
          "metadata": {},
          "execution_count": 14
        }
      ]
    },
    {
      "cell_type": "code",
      "source": [
        "# data analysis\n",
        "# Stock prices over 5 days\n",
        "prices = np.array([100, 102, 105, 107, 110])\n",
        "np.diff(prices)\n",
        "# np.diff() fonksiyonu, bir dizideki (array) ardışık elementler arasındaki farkı hesaplayarak yeni bir dizi oluşturur."
      ],
      "metadata": {
        "colab": {
          "base_uri": "https://localhost:8080/"
        },
        "id": "B2EvOtTRVf_M",
        "outputId": "0bc4852f-b244-4eab-eb8d-29ecfb902450"
      },
      "execution_count": null,
      "outputs": [
        {
          "output_type": "execute_result",
          "data": {
            "text/plain": [
              "array([2, 3, 2, 3])"
            ]
          },
          "metadata": {},
          "execution_count": 15
        }
      ]
    },
    {
      "cell_type": "code",
      "source": [
        "prices[:len(prices)-1:]"
      ],
      "metadata": {
        "colab": {
          "base_uri": "https://localhost:8080/"
        },
        "id": "8uatnCJKVlxn",
        "outputId": "2f4eda10-f373-465a-b201-b8d5bf5db1a4"
      },
      "execution_count": null,
      "outputs": [
        {
          "output_type": "execute_result",
          "data": {
            "text/plain": [
              "array([100, 102, 105, 107])"
            ]
          },
          "metadata": {},
          "execution_count": 16
        }
      ]
    },
    {
      "cell_type": "code",
      "source": [
        "prices[:-1:]"
      ],
      "metadata": {
        "colab": {
          "base_uri": "https://localhost:8080/"
        },
        "id": "PtKBva4BVqX3",
        "outputId": "b48ef271-7f09-4c8b-f7a3-71e1ce35e081"
      },
      "execution_count": null,
      "outputs": [
        {
          "output_type": "execute_result",
          "data": {
            "text/plain": [
              "array([100, 102, 105, 107])"
            ]
          },
          "metadata": {},
          "execution_count": 17
        }
      ]
    },
    {
      "cell_type": "code",
      "source": [
        "prices[:-1]"
      ],
      "metadata": {
        "colab": {
          "base_uri": "https://localhost:8080/"
        },
        "id": "6vhAC9WhVyBD",
        "outputId": "18e2f4d5-28ed-4622-e3fa-d49a75b8ce8a"
      },
      "execution_count": null,
      "outputs": [
        {
          "output_type": "execute_result",
          "data": {
            "text/plain": [
              "array([100, 102, 105, 107])"
            ]
          },
          "metadata": {},
          "execution_count": 19
        }
      ]
    },
    {
      "cell_type": "code",
      "source": [
        "np.diff(prices) / prices[:-1]\n",
        "#  mutlak olarak ne kadar değiştiğini (örneğin $2$ TL arttı) değil, yüzde olarak ne kadar değiştiğini (örneğin %2 arttı) görmek için yapılır."
      ],
      "metadata": {
        "colab": {
          "base_uri": "https://localhost:8080/"
        },
        "id": "x3piyRh5VvIb",
        "outputId": "62cf44d6-a7e0-48da-817d-4f0bb33e7cc8"
      },
      "execution_count": null,
      "outputs": [
        {
          "output_type": "execute_result",
          "data": {
            "text/plain": [
              "array([0.02      , 0.02941176, 0.01904762, 0.02803738])"
            ]
          },
          "metadata": {},
          "execution_count": 18
        }
      ]
    },
    {
      "cell_type": "code",
      "source": [
        "returns = np.diff(prices) / prices[:-1] * 100\n",
        "returns"
      ],
      "metadata": {
        "colab": {
          "base_uri": "https://localhost:8080/"
        },
        "id": "QMqSVHN_V1dt",
        "outputId": "8165ace7-94ad-408a-e661-78386d4163cd"
      },
      "execution_count": null,
      "outputs": [
        {
          "output_type": "execute_result",
          "data": {
            "text/plain": [
              "array([2.        , 2.94117647, 1.9047619 , 2.80373832])"
            ]
          },
          "metadata": {},
          "execution_count": 21
        }
      ]
    }
  ]
}