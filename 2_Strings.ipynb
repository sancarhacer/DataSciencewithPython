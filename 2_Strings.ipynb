{
  "nbformat": 4,
  "nbformat_minor": 0,
  "metadata": {
    "colab": {
      "provenance": [],
      "authorship_tag": "ABX9TyOjrosd5pYgIVswpcFE/Upj",
      "include_colab_link": true
    },
    "kernelspec": {
      "name": "python3",
      "display_name": "Python 3"
    },
    "language_info": {
      "name": "python"
    }
  },
  "cells": [
    {
      "cell_type": "markdown",
      "metadata": {
        "id": "view-in-github",
        "colab_type": "text"
      },
      "source": [
        "<a href=\"https://colab.research.google.com/github/sancarhacer/DataSciencewithPython/blob/main/2_Strings.ipynb\" target=\"_parent\"><img src=\"https://colab.research.google.com/assets/colab-badge.svg\" alt=\"Open In Colab\"/></a>"
      ]
    },
    {
      "cell_type": "code",
      "execution_count": 1,
      "metadata": {
        "colab": {
          "base_uri": "https://localhost:8080/"
        },
        "id": "H1JHI7kgMUo5",
        "outputId": "87734b28-574d-4c33-86ab-da2c6d4a0ee3"
      },
      "outputs": [
        {
          "output_type": "execute_result",
          "data": {
            "text/plain": [
              "str"
            ]
          },
          "metadata": {},
          "execution_count": 1
        }
      ],
      "source": [
        "# String Değişkeni Yeniden Tanımlama\n",
        "name = \"atil\"      # 'name' değişkenine yeni bir string değer atar.\n",
        "type(name)          # Yeni tipini sorgular, yine string'dir.\n",
        "# Çıktı: str"
      ]
    },
    {
      "cell_type": "code",
      "source": [
        "# String Metotları (Fonksiyonları)\n",
        "name.capitalize()   # String'in ilk harfini büyük, diğerlerini küçük yapar.\n",
        "# Çıktı: 'Atil samancioglu'"
      ],
      "metadata": {
        "colab": {
          "base_uri": "https://localhost:8080/",
          "height": 36
        },
        "id": "69NAoiXRMp5F",
        "outputId": "c56e335d-374c-4a92-ce8e-8b1711086bda"
      },
      "execution_count": 2,
      "outputs": [
        {
          "output_type": "execute_result",
          "data": {
            "text/plain": [
              "'Atil'"
            ],
            "application/vnd.google.colaboratory.intrinsic+json": {
              "type": "string"
            }
          },
          "metadata": {},
          "execution_count": 2
        }
      ]
    },
    {
      "cell_type": "code",
      "source": [
        "name.capitalize   # Metodu çağırmadan sadece referansını gösterir. Parantez () unutulmuş.\n",
        "# Çıktı: <function str.capitalize()>"
      ],
      "metadata": {
        "colab": {
          "base_uri": "https://localhost:8080/"
        },
        "id": "PxSPYJZ9MxVO",
        "outputId": "d0ea93ca-e7b2-434e-f479-325ce4dd20f4"
      },
      "execution_count": 3,
      "outputs": [
        {
          "output_type": "execute_result",
          "data": {
            "text/plain": [
              "<function str.capitalize()>"
            ]
          },
          "metadata": {},
          "execution_count": 3
        }
      ]
    },
    {
      "cell_type": "code",
      "source": [
        "name.count(\"a\")     # 'name' string'i içinde \"a\" harfinin kaç kez geçtiğini sayar.\n"
      ],
      "metadata": {
        "colab": {
          "base_uri": "https://localhost:8080/"
        },
        "id": "y4KWR197M0ks",
        "outputId": "96b949c8-65e1-4f3e-cb35-808271a9a7ad"
      },
      "execution_count": 8,
      "outputs": [
        {
          "output_type": "execute_result",
          "data": {
            "text/plain": [
              "1"
            ]
          },
          "metadata": {},
          "execution_count": 8
        }
      ]
    },
    {
      "cell_type": "code",
      "source": [
        "help(name.count)\n",
        "# Çıktı: ... (Açıklama: Bir string içindeki alt stringin kaç kez geçtiğini sayar.)"
      ],
      "metadata": {
        "colab": {
          "base_uri": "https://localhost:8080/"
        },
        "id": "DpRw0cpkM8Ug",
        "outputId": "e4721978-cf21-48ff-ef29-59d09e20e7c3"
      },
      "execution_count": 9,
      "outputs": [
        {
          "output_type": "stream",
          "name": "stdout",
          "text": [
            "Help on built-in function count:\n",
            "\n",
            "count(...) method of builtins.str instance\n",
            "    S.count(sub[, start[, end]]) -> int\n",
            "\n",
            "    Return the number of non-overlapping occurrences of substring sub in\n",
            "    string S[start:end].  Optional arguments start and end are\n",
            "    interpreted as in slice notation.\n",
            "\n"
          ]
        }
      ]
    },
    {
      "cell_type": "code",
      "source": [
        "name.upper() # 'name' string'ini büyük harfe çevirir"
      ],
      "metadata": {
        "colab": {
          "base_uri": "https://localhost:8080/",
          "height": 36
        },
        "id": "fm-2RTZ8NIp2",
        "outputId": "65961830-31bc-4776-970e-5aa73d941b37"
      },
      "execution_count": 10,
      "outputs": [
        {
          "output_type": "execute_result",
          "data": {
            "text/plain": [
              "'ATIL'"
            ],
            "application/vnd.google.colaboratory.intrinsic+json": {
              "type": "string"
            }
          },
          "metadata": {},
          "execution_count": 10
        }
      ]
    },
    {
      "cell_type": "code",
      "source": [
        "name                # Orijinal 'name' değişkeni değişmedi."
      ],
      "metadata": {
        "colab": {
          "base_uri": "https://localhost:8080/",
          "height": 36
        },
        "id": "xDgRVWPiNOuu",
        "outputId": "7a0821a3-8659-4f83-d3de-6e1958da749f"
      },
      "execution_count": 11,
      "outputs": [
        {
          "output_type": "execute_result",
          "data": {
            "text/plain": [
              "'atil'"
            ],
            "application/vnd.google.colaboratory.intrinsic+json": {
              "type": "string"
            }
          },
          "metadata": {},
          "execution_count": 11
        }
      ]
    },
    {
      "cell_type": "code",
      "source": [
        "len(name)           # 'name' string'inin uzunluğunu (karakter sayısını) hesaplar."
      ],
      "metadata": {
        "colab": {
          "base_uri": "https://localhost:8080/"
        },
        "id": "evsPzCSANRMJ",
        "outputId": "24068380-416a-41ac-ac4e-a47f3f713bc9"
      },
      "execution_count": 12,
      "outputs": [
        {
          "output_type": "execute_result",
          "data": {
            "text/plain": [
              "4"
            ]
          },
          "metadata": {},
          "execution_count": 12
        }
      ]
    },
    {
      "cell_type": "code",
      "source": [
        "myString = \"hello python\" # 'myString' değişkenine değer atar.\n",
        "myString[4]         # 4. indeksteki (0'dan başlar) karakteri getirir.\n",
        "# Çıktı: 'o'\n",
        "myString[0]         # 0. indeksteki (ilk) karakteri getirir.\n",
        "# Çıktı: 'h'\n",
        "myString[11]        # 11. indeksteki (son) karakteri getirir.\n",
        "# Çıktı: 'n'"
      ],
      "metadata": {
        "colab": {
          "base_uri": "https://localhost:8080/",
          "height": 36
        },
        "id": "4iKx7XPYNUJf",
        "outputId": "3c86c967-73a0-4d7c-ca72-4e32a4794963"
      },
      "execution_count": 13,
      "outputs": [
        {
          "output_type": "execute_result",
          "data": {
            "text/plain": [
              "'n'"
            ],
            "application/vnd.google.colaboratory.intrinsic+json": {
              "type": "string"
            }
          },
          "metadata": {},
          "execution_count": 13
        }
      ]
    },
    {
      "cell_type": "code",
      "source": [
        "len(myString) - 1   # Son karakterin indeksi."
      ],
      "metadata": {
        "colab": {
          "base_uri": "https://localhost:8080/"
        },
        "id": "VzIfnsUxNbv0",
        "outputId": "cea09022-bb90-4c95-9b7f-0fd52e2aaad2"
      },
      "execution_count": 14,
      "outputs": [
        {
          "output_type": "execute_result",
          "data": {
            "text/plain": [
              "11"
            ]
          },
          "metadata": {},
          "execution_count": 14
        }
      ]
    },
    {
      "cell_type": "code",
      "source": [
        "myName = \"james hetfield\"\n",
        "myName[len(myName)-1] # Uzunluk - 1 ile son karakteri bulur."
      ],
      "metadata": {
        "colab": {
          "base_uri": "https://localhost:8080/",
          "height": 36
        },
        "id": "qpj8m-o3Ng2H",
        "outputId": "4b2eb1d1-f50e-4471-ecc7-be31543efe7f"
      },
      "execution_count": 15,
      "outputs": [
        {
          "output_type": "execute_result",
          "data": {
            "text/plain": [
              "'d'"
            ],
            "application/vnd.google.colaboratory.intrinsic+json": {
              "type": "string"
            }
          },
          "metadata": {},
          "execution_count": 15
        }
      ]
    },
    {
      "cell_type": "code",
      "source": [
        "# String Birleştirme (Concatenation)\n",
        "10 + 20             # Sayı toplama.\n",
        "# Çıktı: 30\n",
        "\"A\" + \"B\"           # String birleştirme.\n",
        "# Çıktı: 'AB'"
      ],
      "metadata": {
        "colab": {
          "base_uri": "https://localhost:8080/",
          "height": 36
        },
        "id": "pMWolHI6NkRo",
        "outputId": "1a0d3b6f-5fa1-4b87-a760-debdda2a5309"
      },
      "execution_count": 16,
      "outputs": [
        {
          "output_type": "execute_result",
          "data": {
            "text/plain": [
              "'AB'"
            ],
            "application/vnd.google.colaboratory.intrinsic+json": {
              "type": "string"
            }
          },
          "metadata": {},
          "execution_count": 16
        }
      ]
    },
    {
      "cell_type": "code",
      "source": [
        "name = \"Hacer\"\n",
        "surname = \"Sancar\"\n",
        "fullname = name+surname\n",
        "fullname"
      ],
      "metadata": {
        "colab": {
          "base_uri": "https://localhost:8080/",
          "height": 36
        },
        "id": "Zz5w8KeXNnlA",
        "outputId": "fa6a5ac6-9d6a-49f8-91e9-bbdeae6e808c"
      },
      "execution_count": 19,
      "outputs": [
        {
          "output_type": "execute_result",
          "data": {
            "text/plain": [
              "'HacerSancar'"
            ],
            "application/vnd.google.colaboratory.intrinsic+json": {
              "type": "string"
            }
          },
          "metadata": {},
          "execution_count": 19
        }
      ]
    },
    {
      "cell_type": "code",
      "source": [
        "# String Çarpma (Tekrarlama)\n",
        "fullname * 5        # String'i 5 kez tekrar eder."
      ],
      "metadata": {
        "colab": {
          "base_uri": "https://localhost:8080/",
          "height": 36
        },
        "id": "hobKSS33NwlX",
        "outputId": "a8130a60-74ea-4ec7-a6ea-57e5e642deb2"
      },
      "execution_count": 20,
      "outputs": [
        {
          "output_type": "execute_result",
          "data": {
            "text/plain": [
              "'HacerSancarHacerSancarHacerSancarHacerSancarHacerSancar'"
            ],
            "application/vnd.google.colaboratory.intrinsic+json": {
              "type": "string"
            }
          },
          "metadata": {},
          "execution_count": 20
        }
      ]
    },
    {
      "cell_type": "code",
      "source": [
        "barcode = \"ABCDE123123982\"\n",
        "barcode[0] + barcode[1] + barcode[2] # İndekslerle karakterleri alıp birleştirir."
      ],
      "metadata": {
        "colab": {
          "base_uri": "https://localhost:8080/",
          "height": 36
        },
        "id": "qJTErn1tNzba",
        "outputId": "d10ca04e-6a53-466b-a597-17454e11fc86"
      },
      "execution_count": 21,
      "outputs": [
        {
          "output_type": "execute_result",
          "data": {
            "text/plain": [
              "'ABC'"
            ],
            "application/vnd.google.colaboratory.intrinsic+json": {
              "type": "string"
            }
          },
          "metadata": {},
          "execution_count": 21
        }
      ]
    },
    {
      "cell_type": "code",
      "source": [
        "barcode             # String'in tamamı."
      ],
      "metadata": {
        "colab": {
          "base_uri": "https://localhost:8080/",
          "height": 36
        },
        "id": "k0_rkwLfN3qH",
        "outputId": "d8a3a11f-4bf1-4de7-a934-1b70c7a80c11"
      },
      "execution_count": 22,
      "outputs": [
        {
          "output_type": "execute_result",
          "data": {
            "text/plain": [
              "'ABCDE123123982'"
            ],
            "application/vnd.google.colaboratory.intrinsic+json": {
              "type": "string"
            }
          },
          "metadata": {},
          "execution_count": 22
        }
      ]
    },
    {
      "cell_type": "code",
      "source": [
        "barcode[::]         # Başlangıç, bitiş ve adım belirtilmemiş (tümü)."
      ],
      "metadata": {
        "colab": {
          "base_uri": "https://localhost:8080/",
          "height": 36
        },
        "id": "N9HKbwD8ODkH",
        "outputId": "6571383c-8ef5-4349-de92-795e385d3e85"
      },
      "execution_count": 23,
      "outputs": [
        {
          "output_type": "execute_result",
          "data": {
            "text/plain": [
              "'ABCDE123123982'"
            ],
            "application/vnd.google.colaboratory.intrinsic+json": {
              "type": "string"
            }
          },
          "metadata": {},
          "execution_count": 23
        }
      ]
    },
    {
      "cell_type": "code",
      "source": [
        "# barcode[starting index:stopping index:stepping size]\n",
        "barcode[3::]        # 3. indeksten başlayarak sona kadar."
      ],
      "metadata": {
        "colab": {
          "base_uri": "https://localhost:8080/",
          "height": 36
        },
        "id": "5JWRapk8OAqE",
        "outputId": "8c1a0e49-70fb-4252-ba8f-6b9e8a126f94"
      },
      "execution_count": 24,
      "outputs": [
        {
          "output_type": "execute_result",
          "data": {
            "text/plain": [
              "'DE123123982'"
            ],
            "application/vnd.google.colaboratory.intrinsic+json": {
              "type": "string"
            }
          },
          "metadata": {},
          "execution_count": 24
        }
      ]
    },
    {
      "cell_type": "code",
      "source": [
        "barcode[:3:]        # Başlangıçtan 3. indekse kadar (3. indeks dahil değil)."
      ],
      "metadata": {
        "colab": {
          "base_uri": "https://localhost:8080/",
          "height": 36
        },
        "id": "ivPmmSU3OIod",
        "outputId": "038e928d-4b93-4d0c-968c-638c2f50d85d"
      },
      "execution_count": 25,
      "outputs": [
        {
          "output_type": "execute_result",
          "data": {
            "text/plain": [
              "'ABC'"
            ],
            "application/vnd.google.colaboratory.intrinsic+json": {
              "type": "string"
            }
          },
          "metadata": {},
          "execution_count": 25
        }
      ]
    },
    {
      "cell_type": "code",
      "source": [
        "barcode[::3]        # Başlangıçtan sona kadar 3'er atlayarak."
      ],
      "metadata": {
        "colab": {
          "base_uri": "https://localhost:8080/",
          "height": 36
        },
        "id": "s2td-OtsOQkn",
        "outputId": "a2742bfe-77b2-4172-f16e-4b9f1a5adc7d"
      },
      "execution_count": 26,
      "outputs": [
        {
          "output_type": "execute_result",
          "data": {
            "text/plain": [
              "'AD228'"
            ],
            "application/vnd.google.colaboratory.intrinsic+json": {
              "type": "string"
            }
          },
          "metadata": {},
          "execution_count": 26
        }
      ]
    },
    {
      "cell_type": "code",
      "source": [
        "barcode[1:9:2]      # 1. indexten 9. indexe kadar 2'şer atlayarak."
      ],
      "metadata": {
        "colab": {
          "base_uri": "https://localhost:8080/",
          "height": 36
        },
        "id": "jve0yAMqOWse",
        "outputId": "bb4580f6-957c-4e70-b98f-9af0d864a7df"
      },
      "execution_count": 27,
      "outputs": [
        {
          "output_type": "execute_result",
          "data": {
            "text/plain": [
              "'BD13'"
            ],
            "application/vnd.google.colaboratory.intrinsic+json": {
              "type": "string"
            }
          },
          "metadata": {},
          "execution_count": 27
        }
      ]
    },
    {
      "cell_type": "code",
      "source": [
        "barcode[::-1]       # Adım -1, string'i tersten okur."
      ],
      "metadata": {
        "colab": {
          "base_uri": "https://localhost:8080/",
          "height": 36
        },
        "id": "m9ibhzfHOadS",
        "outputId": "cd31c329-04e8-4723-aff9-224098fd922b"
      },
      "execution_count": 28,
      "outputs": [
        {
          "output_type": "execute_result",
          "data": {
            "text/plain": [
              "'289321321EDCBA'"
            ],
            "application/vnd.google.colaboratory.intrinsic+json": {
              "type": "string"
            }
          },
          "metadata": {},
          "execution_count": 28
        }
      ]
    },
    {
      "cell_type": "code",
      "source": [
        "barcode[-1]  # stringin son karakteri"
      ],
      "metadata": {
        "colab": {
          "base_uri": "https://localhost:8080/",
          "height": 36
        },
        "id": "6duzCHMgObpq",
        "outputId": "f3620578-f81c-4f22-fdc1-e67678dafa18"
      },
      "execution_count": 30,
      "outputs": [
        {
          "output_type": "execute_result",
          "data": {
            "text/plain": [
              "'2'"
            ],
            "application/vnd.google.colaboratory.intrinsic+json": {
              "type": "string"
            }
          },
          "metadata": {},
          "execution_count": 30
        }
      ]
    },
    {
      "cell_type": "code",
      "source": [
        "name = \"atil samancioglu\"\n",
        "help(name.index)    # (Açıklama: Verilen alt stringin ilk geçtiği indeksi döndürür.)"
      ],
      "metadata": {
        "colab": {
          "base_uri": "https://localhost:8080/"
        },
        "id": "FudlndJrOfIa",
        "outputId": "a4791679-f8bc-4bdf-f0d1-581b04b7c12f"
      },
      "execution_count": 31,
      "outputs": [
        {
          "output_type": "stream",
          "name": "stdout",
          "text": [
            "Help on built-in function index:\n",
            "\n",
            "index(...) method of builtins.str instance\n",
            "    S.index(sub[, start[, end]]) -> int\n",
            "\n",
            "    Return the lowest index in S where substring sub is found,\n",
            "    such that sub is contained within S[start:end].  Optional\n",
            "    arguments start and end are interpreted as in slice notation.\n",
            "\n",
            "    Raises ValueError when the substring is not found.\n",
            "\n"
          ]
        }
      ]
    },
    {
      "cell_type": "code",
      "source": [
        "name.index(\"s\")     # \"s\" harfinin geçtiği ilk indeksi bulur.\n"
      ],
      "metadata": {
        "colab": {
          "base_uri": "https://localhost:8080/"
        },
        "id": "Bo1vyUNDOsA1",
        "outputId": "4c1b41a8-02d6-4c43-ef7c-9b6b4b157717"
      },
      "execution_count": 32,
      "outputs": [
        {
          "output_type": "execute_result",
          "data": {
            "text/plain": [
              "5"
            ]
          },
          "metadata": {},
          "execution_count": 32
        }
      ]
    },
    {
      "cell_type": "code",
      "source": [
        "name.split()        # String'i boşluk karakterine göre ayırır ve bir liste döndürür."
      ],
      "metadata": {
        "colab": {
          "base_uri": "https://localhost:8080/"
        },
        "id": "ADALFMvDOtqh",
        "outputId": "d33eedd2-7db5-4f72-ae6c-19883b209ffc"
      },
      "execution_count": 33,
      "outputs": [
        {
          "output_type": "execute_result",
          "data": {
            "text/plain": [
              "['atil', 'samancioglu']"
            ]
          },
          "metadata": {},
          "execution_count": 33
        }
      ]
    },
    {
      "cell_type": "code",
      "source": [
        "type(name.split())  # 'split' metodunun döndürdüğü veri tipini sorgular."
      ],
      "metadata": {
        "colab": {
          "base_uri": "https://localhost:8080/"
        },
        "id": "K_ge_55XOxTi",
        "outputId": "57259eff-0a3b-4a7f-a790-5fd5f6dae00d"
      },
      "execution_count": 35,
      "outputs": [
        {
          "output_type": "execute_result",
          "data": {
            "text/plain": [
              "list"
            ]
          },
          "metadata": {},
          "execution_count": 35
        }
      ]
    }
  ]
}