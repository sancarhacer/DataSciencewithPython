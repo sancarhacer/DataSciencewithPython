{
  "nbformat": 4,
  "nbformat_minor": 0,
  "metadata": {
    "colab": {
      "provenance": [],
      "authorship_tag": "ABX9TyODCwKiHnNssCFHTXuSAOkX",
      "include_colab_link": true
    },
    "kernelspec": {
      "name": "python3",
      "display_name": "Python 3"
    },
    "language_info": {
      "name": "python"
    }
  },
  "cells": [
    {
      "cell_type": "markdown",
      "metadata": {
        "id": "view-in-github",
        "colab_type": "text"
      },
      "source": [
        "<a href=\"https://colab.research.google.com/github/sancarhacer/DataSciencewithPython/blob/main/2_NumpyMatrices.ipynb\" target=\"_parent\"><img src=\"https://colab.research.google.com/assets/colab-badge.svg\" alt=\"Open In Colab\"/></a>"
      ]
    },
    {
      "cell_type": "code",
      "source": [
        "import numpy as np\n",
        "my_matrix = [[5,10],[15,20]]\n",
        "print(my_matrix[0])\n",
        "print(my_matrix[1])"
      ],
      "metadata": {
        "colab": {
          "base_uri": "https://localhost:8080/"
        },
        "id": "FAidgWAiQqPd",
        "outputId": "8a9b927f-4c62-45e7-e61b-3f728202ba18"
      },
      "execution_count": null,
      "outputs": [
        {
          "output_type": "stream",
          "name": "stdout",
          "text": [
            "[5, 10]\n",
            "[15, 20]\n"
          ]
        }
      ]
    },
    {
      "cell_type": "code",
      "source": [
        "#my_matrix.sum()"
      ],
      "metadata": {
        "id": "U4X_VqDORImK"
      },
      "execution_count": null,
      "outputs": []
    },
    {
      "cell_type": "code",
      "source": [
        "numpy_matrix = np.array([[5,10],[15,20]])\n",
        "numpy_matrix.sum()"
      ],
      "metadata": {
        "colab": {
          "base_uri": "https://localhost:8080/"
        },
        "id": "FbdX0gWWRPUD",
        "outputId": "9f618c9b-f104-49e8-e4f5-bd26e48b56b1"
      },
      "execution_count": null,
      "outputs": [
        {
          "output_type": "execute_result",
          "data": {
            "text/plain": [
              "np.int64(50)"
            ]
          },
          "metadata": {},
          "execution_count": 8
        }
      ]
    },
    {
      "cell_type": "code",
      "source": [
        "# row x column\n",
        "np.ones((4,2))"
      ],
      "metadata": {
        "colab": {
          "base_uri": "https://localhost:8080/"
        },
        "id": "Jr7oCJoXRd2b",
        "outputId": "50301b73-9d7d-4f0b-a2f9-712e5c639525"
      },
      "execution_count": null,
      "outputs": [
        {
          "output_type": "execute_result",
          "data": {
            "text/plain": [
              "array([[1., 1.],\n",
              "       [1., 1.],\n",
              "       [1., 1.],\n",
              "       [1., 1.]])"
            ]
          },
          "metadata": {},
          "execution_count": 9
        }
      ]
    },
    {
      "cell_type": "code",
      "source": [
        "np.zeros((2,3))"
      ],
      "metadata": {
        "colab": {
          "base_uri": "https://localhost:8080/"
        },
        "id": "2xgp2dYIRfID",
        "outputId": "477cc895-08dc-4102-fccd-5b74399ef62f"
      },
      "execution_count": null,
      "outputs": [
        {
          "output_type": "execute_result",
          "data": {
            "text/plain": [
              "array([[0., 0., 0.],\n",
              "       [0., 0., 0.]])"
            ]
          },
          "metadata": {},
          "execution_count": 10
        }
      ]
    },
    {
      "cell_type": "code",
      "source": [
        "np.random.random((3,2))"
      ],
      "metadata": {
        "colab": {
          "base_uri": "https://localhost:8080/"
        },
        "id": "rrT40HPNRkNX",
        "outputId": "1f2f47c3-c951-485d-b2fb-d29257c872b2"
      },
      "execution_count": null,
      "outputs": [
        {
          "output_type": "execute_result",
          "data": {
            "text/plain": [
              "array([[0.19242678, 0.22920565],\n",
              "       [0.78538127, 0.36337679],\n",
              "       [0.68432032, 0.51477402]])"
            ]
          },
          "metadata": {},
          "execution_count": 11
        }
      ]
    },
    {
      "cell_type": "code",
      "source": [
        "# matrix arithmetic\n",
        "first_array = np.array([[10,20],[30,40]])\n",
        "second_array = np.array([[5,15],[25,35]])\n",
        "first_array + second_array"
      ],
      "metadata": {
        "colab": {
          "base_uri": "https://localhost:8080/"
        },
        "id": "B1mTEZdoRnui",
        "outputId": "7181ee26-872f-4c47-c613-e7fa6cd8dbbd"
      },
      "execution_count": null,
      "outputs": [
        {
          "output_type": "execute_result",
          "data": {
            "text/plain": [
              "array([[15, 35],\n",
              "       [55, 75]])"
            ]
          },
          "metadata": {},
          "execution_count": 12
        }
      ]
    },
    {
      "cell_type": "code",
      "source": [
        "print(first_array *2)\n",
        "print(\"\\n\")\n",
        "print(first_array / 4)"
      ],
      "metadata": {
        "colab": {
          "base_uri": "https://localhost:8080/"
        },
        "id": "MFF2lyZiRqym",
        "outputId": "e4a917ab-d0d7-45dc-bfe3-64d3232dd420"
      },
      "execution_count": null,
      "outputs": [
        {
          "output_type": "stream",
          "name": "stdout",
          "text": [
            "[[20 40]\n",
            " [60 80]]\n",
            "\n",
            "\n",
            "[[ 2.5  5. ]\n",
            " [ 7.5 10. ]]\n"
          ]
        }
      ]
    },
    {
      "cell_type": "code",
      "source": [
        "# We can add and multiply matrices using arithmetic operators (+-*/) if the two matrices are the same size.\n",
        "third_array = np.array([[10],[20]])\n",
        "third_array"
      ],
      "metadata": {
        "colab": {
          "base_uri": "https://localhost:8080/"
        },
        "id": "NFzpgj9qR-N4",
        "outputId": "408a74ce-4d7a-4e5e-f892-e778bd4dda96"
      },
      "execution_count": null,
      "outputs": [
        {
          "output_type": "execute_result",
          "data": {
            "text/plain": [
              "array([[10],\n",
              "       [20]])"
            ]
          },
          "metadata": {},
          "execution_count": 17
        }
      ]
    },
    {
      "cell_type": "code",
      "source": [
        "third_array.shape"
      ],
      "metadata": {
        "colab": {
          "base_uri": "https://localhost:8080/"
        },
        "id": "FGhKLZAfR_qr",
        "outputId": "f780f291-8d44-43b5-d9cb-825c44bda62d"
      },
      "execution_count": null,
      "outputs": [
        {
          "output_type": "execute_result",
          "data": {
            "text/plain": [
              "(2, 1)"
            ]
          },
          "metadata": {},
          "execution_count": 20
        }
      ]
    },
    {
      "cell_type": "code",
      "source": [
        "first_array.shape"
      ],
      "metadata": {
        "colab": {
          "base_uri": "https://localhost:8080/"
        },
        "id": "e9ivm2tUSHCr",
        "outputId": "339ed47e-1615-42ff-b47a-20a5ec77db7b"
      },
      "execution_count": null,
      "outputs": [
        {
          "output_type": "execute_result",
          "data": {
            "text/plain": [
              "(2, 2)"
            ]
          },
          "metadata": {},
          "execution_count": 21
        }
      ]
    },
    {
      "cell_type": "code",
      "source": [
        "print(first_array)\n",
        "print(\"\\n\")\n",
        "print(third_array)"
      ],
      "metadata": {
        "colab": {
          "base_uri": "https://localhost:8080/"
        },
        "id": "qNMLRxpGSKkK",
        "outputId": "d4fe1c98-38ee-414c-9c34-31b824d69809"
      },
      "execution_count": null,
      "outputs": [
        {
          "output_type": "stream",
          "name": "stdout",
          "text": [
            "[[10 20]\n",
            " [30 40]]\n",
            "\n",
            "\n",
            "[[10]\n",
            " [20]]\n"
          ]
        }
      ]
    },
    {
      "cell_type": "markdown",
      "source": [
        "NumPy broadcast kuralına göre third_array otomatik olarak şu hale genişletilir: [10 10] [20,20]\n",
        "\n",
        "\n"
      ],
      "metadata": {
        "id": "j-K2KVLCSY2Z"
      }
    },
    {
      "cell_type": "code",
      "source": [
        "first_array + third_array"
      ],
      "metadata": {
        "colab": {
          "base_uri": "https://localhost:8080/"
        },
        "id": "VuatKGBvSVYV",
        "outputId": "a37ae8b3-41f9-4d4f-b544-10d2f1536996"
      },
      "execution_count": null,
      "outputs": [
        {
          "output_type": "execute_result",
          "data": {
            "text/plain": [
              "array([[20, 30],\n",
              "       [50, 60]])"
            ]
          },
          "metadata": {},
          "execution_count": 24
        }
      ]
    },
    {
      "cell_type": "code",
      "source": [
        "# We do these arithmetic operations on matrices of different size only if the different dimension is one\n",
        "#in which case NumPy uses its broadcast rules for that operation:\n",
        "fourth_array = np.ones((3,4))\n",
        "fourth_array\n",
        "#fourth_array + first_array"
      ],
      "metadata": {
        "colab": {
          "base_uri": "https://localhost:8080/"
        },
        "id": "aH3s3jS6TZgO",
        "outputId": "52b3124a-c2b8-45e2-a7c0-08630eb3e5ca"
      },
      "execution_count": null,
      "outputs": [
        {
          "output_type": "execute_result",
          "data": {
            "text/plain": [
              "array([[1., 1., 1., 1.],\n",
              "       [1., 1., 1., 1.],\n",
              "       [1., 1., 1., 1.]])"
            ]
          },
          "metadata": {},
          "execution_count": 27
        }
      ]
    },
    {
      "cell_type": "code",
      "source": [
        "# matrix multiplication\n",
        "first_matrix = np.array([[10,20,30]])\n",
        "second_matrix = np.array([[2,3],[2,3],[2,3]])\n",
        "\n",
        "print(first_matrix.shape)\n",
        "print(\"\\n\")\n",
        "print(second_matrix.shape)\n",
        "\n"
      ],
      "metadata": {
        "colab": {
          "base_uri": "https://localhost:8080/"
        },
        "id": "lbf1Z3ppTj-4",
        "outputId": "edba2cc5-5e57-45c7-eca7-23c7e0afcb6d"
      },
      "execution_count": null,
      "outputs": [
        {
          "output_type": "stream",
          "name": "stdout",
          "text": [
            "(1, 3)\n",
            "\n",
            "\n",
            "(3, 2)\n"
          ]
        }
      ]
    },
    {
      "cell_type": "code",
      "execution_count": null,
      "metadata": {
        "colab": {
          "base_uri": "https://localhost:8080/"
        },
        "id": "sg3SJyXiQfJ2",
        "outputId": "728893e7-aedf-4005-8498-7e933f18a1fd"
      },
      "outputs": [
        {
          "output_type": "stream",
          "name": "stdout",
          "text": [
            "[[120 180]]\n",
            "\n",
            "\n",
            "(1, 2)\n"
          ]
        }
      ],
      "source": [
        "#first_matrix * second_matrix\n",
        "result_matrix = first_matrix.dot(second_matrix)\n",
        "print(result_matrix)\n",
        "print(\"\\n\")\n",
        "print(result_matrix.shape)\n",
        "\n"
      ]
    },
    {
      "cell_type": "markdown",
      "source": [
        "![1.jpg](data:image/jpeg;base64,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)\n",
        "\n"
      ],
      "metadata": {
        "id": "KWMy40d6dDJD"
      }
    }
  ]
}