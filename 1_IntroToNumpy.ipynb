{
  "nbformat": 4,
  "nbformat_minor": 0,
  "metadata": {
    "colab": {
      "provenance": [],
      "authorship_tag": "ABX9TyMM5wny7itn0LV+reIAt5pD",
      "include_colab_link": true
    },
    "kernelspec": {
      "name": "python3",
      "display_name": "Python 3"
    },
    "language_info": {
      "name": "python"
    }
  },
  "cells": [
    {
      "cell_type": "markdown",
      "metadata": {
        "id": "view-in-github",
        "colab_type": "text"
      },
      "source": [
        "<a href=\"https://colab.research.google.com/github/sancarhacer/DataSciencewithPython/blob/main/1_IntroToNumpy.ipynb\" target=\"_parent\"><img src=\"https://colab.research.google.com/assets/colab-badge.svg\" alt=\"Open In Colab\"/></a>"
      ]
    },
    {
      "cell_type": "code",
      "execution_count": null,
      "metadata": {
        "id": "os3C2Z7xGLlj"
      },
      "outputs": [],
      "source": [
        "import numpy as np\n",
        "# !pip install numpy\n"
      ]
    },
    {
      "cell_type": "code",
      "source": [
        "my_list = [10,20,30,40]\n",
        "type(my_list)"
      ],
      "metadata": {
        "colab": {
          "base_uri": "https://localhost:8080/"
        },
        "id": "yRCshSp2GRHm",
        "outputId": "667b8035-9c4a-42dc-bf53-69fa962c785e"
      },
      "execution_count": null,
      "outputs": [
        {
          "output_type": "execute_result",
          "data": {
            "text/plain": [
              "list"
            ]
          },
          "metadata": {},
          "execution_count": 3
        }
      ]
    },
    {
      "cell_type": "code",
      "source": [
        "# array listlere göre daha katı kuralları olaur mesela kapasitesi değişmez numpy array normal arrayden daha farklıdır\n",
        "np.array(my_list)"
      ],
      "metadata": {
        "id": "PPCls8usGTSL",
        "colab": {
          "base_uri": "https://localhost:8080/"
        },
        "outputId": "67cccc9b-576a-4cb4-d00c-1df8a72fbe8a"
      },
      "execution_count": null,
      "outputs": [
        {
          "output_type": "execute_result",
          "data": {
            "text/plain": [
              "array([10, 20, 30, 40])"
            ]
          },
          "metadata": {},
          "execution_count": 5
        }
      ]
    },
    {
      "cell_type": "code",
      "source": [
        "my_numpy_array = np.array([10,20,30,40,50])\n",
        "type(my_numpy_array)"
      ],
      "metadata": {
        "colab": {
          "base_uri": "https://localhost:8080/"
        },
        "id": "3Ax7OD8yICTt",
        "outputId": "f7a25a52-e3cc-43e9-ce58-99e8a19705c0"
      },
      "execution_count": null,
      "outputs": [
        {
          "output_type": "execute_result",
          "data": {
            "text/plain": [
              "numpy.ndarray"
            ]
          },
          "metadata": {},
          "execution_count": 6
        }
      ]
    },
    {
      "cell_type": "code",
      "source": [
        "my_numpy_array.max()"
      ],
      "metadata": {
        "colab": {
          "base_uri": "https://localhost:8080/"
        },
        "id": "xfLy2B5GIFXm",
        "outputId": "f9e6fe32-284e-4bbf-cd1c-707f47b6912a"
      },
      "execution_count": null,
      "outputs": [
        {
          "output_type": "execute_result",
          "data": {
            "text/plain": [
              "np.int64(50)"
            ]
          },
          "metadata": {},
          "execution_count": 7
        }
      ]
    },
    {
      "cell_type": "code",
      "source": [
        "# https://jalammar.github.io/visual-numpy/\n",
        "#Uzunluğu 5 olan, tüm elemanları $1.0$ olan bir NumPy dizisi (vektör) oluşturur.\n",
        "np.ones(5)"
      ],
      "metadata": {
        "colab": {
          "base_uri": "https://localhost:8080/"
        },
        "id": "IYoTPWC7IQ1h",
        "outputId": "3cf24fb1-a776-4fd1-b0a1-efb47b909a3d"
      },
      "execution_count": null,
      "outputs": [
        {
          "output_type": "execute_result",
          "data": {
            "text/plain": [
              "array([1., 1., 1., 1., 1.])"
            ]
          },
          "metadata": {},
          "execution_count": 8
        }
      ]
    },
    {
      "cell_type": "code",
      "source": [
        "np.zeros(4)"
      ],
      "metadata": {
        "colab": {
          "base_uri": "https://localhost:8080/"
        },
        "id": "uEZ0AhhdIWV3",
        "outputId": "bec2295a-07e8-4508-a5c8-dea56103eb6b"
      },
      "execution_count": null,
      "outputs": [
        {
          "output_type": "execute_result",
          "data": {
            "text/plain": [
              "array([0., 0., 0., 0.])"
            ]
          },
          "metadata": {},
          "execution_count": 9
        }
      ]
    },
    {
      "cell_type": "code",
      "source": [
        "#array arithmetic\n",
        "my_list1 = [1,2]\n",
        "my_list2 = [2,3]\n",
        "my_list1 + my_list2\n",
        "[1, 2, 2, 3]"
      ],
      "metadata": {
        "colab": {
          "base_uri": "https://localhost:8080/"
        },
        "id": "IzXZlGQQIgNk",
        "outputId": "82d3c89f-cab3-4684-9032-1ab6737df735"
      },
      "execution_count": null,
      "outputs": [
        {
          "output_type": "execute_result",
          "data": {
            "text/plain": [
              "[1, 2, 2, 3]"
            ]
          },
          "metadata": {},
          "execution_count": 11
        }
      ]
    },
    {
      "cell_type": "code",
      "source": [
        "my_numpy_array1 = np.array(my_list1)\n",
        "my_numpy_array2 = np.array(my_list2)\n",
        "my_numpy_array1 + my_numpy_array2"
      ],
      "metadata": {
        "colab": {
          "base_uri": "https://localhost:8080/"
        },
        "id": "uySxXBcFIj_F",
        "outputId": "c7880053-f268-4f9b-a642-2b1a8c6a2981"
      },
      "execution_count": null,
      "outputs": [
        {
          "output_type": "execute_result",
          "data": {
            "text/plain": [
              "array([3, 5])"
            ]
          },
          "metadata": {},
          "execution_count": 12
        }
      ]
    },
    {
      "cell_type": "code",
      "source": [
        "my_numpy_array1 - my_numpy_array2"
      ],
      "metadata": {
        "colab": {
          "base_uri": "https://localhost:8080/"
        },
        "id": "cNzqcfrPIphB",
        "outputId": "a66a367e-5eca-4033-fe46-05b382b993be"
      },
      "execution_count": null,
      "outputs": [
        {
          "output_type": "execute_result",
          "data": {
            "text/plain": [
              "array([-1, -1])"
            ]
          },
          "metadata": {},
          "execution_count": 13
        }
      ]
    },
    {
      "cell_type": "code",
      "source": [
        "my_numpy_array1*- my_numpy_array2"
      ],
      "metadata": {
        "colab": {
          "base_uri": "https://localhost:8080/"
        },
        "id": "vgruoCXrIqes",
        "outputId": "6c06c95e-057a-4e39-9c95-db963c29c0a6"
      },
      "execution_count": null,
      "outputs": [
        {
          "output_type": "execute_result",
          "data": {
            "text/plain": [
              "array([-2, -6])"
            ]
          },
          "metadata": {},
          "execution_count": 14
        }
      ]
    },
    {
      "cell_type": "code",
      "source": [
        "my_numpy_array1 / my_numpy_array2"
      ],
      "metadata": {
        "colab": {
          "base_uri": "https://localhost:8080/"
        },
        "id": "PqE9_UNSIsRl",
        "outputId": "a008bd08-3623-48c7-c959-84f44bb76998"
      },
      "execution_count": null,
      "outputs": [
        {
          "output_type": "execute_result",
          "data": {
            "text/plain": [
              "array([0.5       , 0.66666667])"
            ]
          },
          "metadata": {},
          "execution_count": 15
        }
      ]
    },
    {
      "cell_type": "code",
      "source": [
        "other_array = np.array([10,20,30,40,50])\n",
        "other_array.min()\n"
      ],
      "metadata": {
        "colab": {
          "base_uri": "https://localhost:8080/"
        },
        "id": "-N1qAyKlIX9B",
        "outputId": "7103e658-0270-4ed1-81b9-82c62974c51c"
      },
      "execution_count": null,
      "outputs": [
        {
          "output_type": "execute_result",
          "data": {
            "text/plain": [
              "np.int64(10)"
            ]
          },
          "metadata": {},
          "execution_count": 16
        }
      ]
    },
    {
      "cell_type": "code",
      "source": [
        "other_array.sum()"
      ],
      "metadata": {
        "colab": {
          "base_uri": "https://localhost:8080/"
        },
        "id": "BrJdhyRmIw30",
        "outputId": "fd73375b-f425-4342-ccc9-a9b53897cc2a"
      },
      "execution_count": null,
      "outputs": [
        {
          "output_type": "execute_result",
          "data": {
            "text/plain": [
              "np.int64(150)"
            ]
          },
          "metadata": {},
          "execution_count": 17
        }
      ]
    },
    {
      "cell_type": "markdown",
      "source": [
        "Broadcasting: iki arrayi birbiriyle çarparken ya aynı boyutta olmalılar ya da biri tek boyut olmalı"
      ],
      "metadata": {
        "id": "Xjn8qNcTI_Fr"
      }
    },
    {
      "cell_type": "code",
      "source": [
        "# aşağıdaki gibi hata olur yoksa\n",
        "# array1 = np.array([1,2,3,4,5])\n",
        "# array2 = np.array([6,7])\n",
        "# array1 * array2"
      ],
      "metadata": {
        "id": "l46lP0a1JE0W"
      },
      "execution_count": null,
      "outputs": []
    },
    {
      "cell_type": "code",
      "source": [
        "#indexing & arange\n",
        "list(range(0,10))"
      ],
      "metadata": {
        "colab": {
          "base_uri": "https://localhost:8080/"
        },
        "id": "r9tH-ETCKVE0",
        "outputId": "df6082cd-7829-4a5a-f95e-80c3db7450b6"
      },
      "execution_count": null,
      "outputs": [
        {
          "output_type": "execute_result",
          "data": {
            "text/plain": [
              "[0, 1, 2, 3, 4, 5, 6, 7, 8, 9]"
            ]
          },
          "metadata": {},
          "execution_count": 19
        }
      ]
    },
    {
      "cell_type": "code",
      "source": [
        "np.arange(0,10)"
      ],
      "metadata": {
        "colab": {
          "base_uri": "https://localhost:8080/"
        },
        "id": "0ZkGpA2oKYuU",
        "outputId": "224ec5fa-00c8-4f00-ee1f-c6b077a108b7"
      },
      "execution_count": null,
      "outputs": [
        {
          "output_type": "execute_result",
          "data": {
            "text/plain": [
              "array([0, 1, 2, 3, 4, 5, 6, 7, 8, 9])"
            ]
          },
          "metadata": {},
          "execution_count": 20
        }
      ]
    },
    {
      "cell_type": "code",
      "source": [
        "np.arange(0,10,2)"
      ],
      "metadata": {
        "colab": {
          "base_uri": "https://localhost:8080/"
        },
        "id": "q7ZXAuDYKcwX",
        "outputId": "6891e07a-8928-48a9-cd5f-bf86a30b9bae"
      },
      "execution_count": null,
      "outputs": [
        {
          "output_type": "execute_result",
          "data": {
            "text/plain": [
              "array([0, 2, 4, 6, 8])"
            ]
          },
          "metadata": {},
          "execution_count": 21
        }
      ]
    },
    {
      "cell_type": "code",
      "source": [
        "np_array = np.arange(0,10)\n",
        "np_array[0]"
      ],
      "metadata": {
        "colab": {
          "base_uri": "https://localhost:8080/"
        },
        "id": "uAbRkWkAKgji",
        "outputId": "e0b757da-971d-4072-ee7d-e5b938e10865"
      },
      "execution_count": null,
      "outputs": [
        {
          "output_type": "execute_result",
          "data": {
            "text/plain": [
              "np.int64(0)"
            ]
          },
          "metadata": {},
          "execution_count": 22
        }
      ]
    },
    {
      "cell_type": "code",
      "source": [
        "np_array[-1]"
      ],
      "metadata": {
        "colab": {
          "base_uri": "https://localhost:8080/"
        },
        "id": "XdAI2P00KkhI",
        "outputId": "9204710e-a162-4162-93bc-8aa96c8b3a0f"
      },
      "execution_count": null,
      "outputs": [
        {
          "output_type": "execute_result",
          "data": {
            "text/plain": [
              "np.int64(9)"
            ]
          },
          "metadata": {},
          "execution_count": 23
        }
      ]
    },
    {
      "cell_type": "code",
      "source": [
        "np_array[1:4:]"
      ],
      "metadata": {
        "colab": {
          "base_uri": "https://localhost:8080/"
        },
        "id": "VG8dhMpzKscq",
        "outputId": "d1e43df8-4eaf-4860-e964-8fa99349f6e6"
      },
      "execution_count": null,
      "outputs": [
        {
          "output_type": "execute_result",
          "data": {
            "text/plain": [
              "array([1, 2, 3])"
            ]
          },
          "metadata": {},
          "execution_count": 24
        }
      ]
    },
    {
      "cell_type": "code",
      "source": [
        "np_array[::-1]"
      ],
      "metadata": {
        "colab": {
          "base_uri": "https://localhost:8080/"
        },
        "id": "HD96_cyHKorJ",
        "outputId": "32e108dd-1892-4d46-c6a4-35c0764346fd"
      },
      "execution_count": null,
      "outputs": [
        {
          "output_type": "execute_result",
          "data": {
            "text/plain": [
              "array([9, 8, 7, 6, 5, 4, 3, 2, 1, 0])"
            ]
          },
          "metadata": {},
          "execution_count": 25
        }
      ]
    },
    {
      "cell_type": "code",
      "source": [
        "np.arange(10,0,-1)"
      ],
      "metadata": {
        "colab": {
          "base_uri": "https://localhost:8080/"
        },
        "id": "lQpwM5NuUs6r",
        "outputId": "c8b48eff-9dbd-4cc2-9b92-dbe0c88fc351"
      },
      "execution_count": null,
      "outputs": [
        {
          "output_type": "execute_result",
          "data": {
            "text/plain": [
              "array([10,  9,  8,  7,  6,  5,  4,  3,  2,  1])"
            ]
          },
          "metadata": {},
          "execution_count": 29
        }
      ]
    },
    {
      "cell_type": "code",
      "source": [
        "np_array[2:6:2]"
      ],
      "metadata": {
        "colab": {
          "base_uri": "https://localhost:8080/"
        },
        "id": "7Lc-SSlOKRyz",
        "outputId": "9b2a95ff-66db-4a30-99eb-e3fac46be8be"
      },
      "execution_count": null,
      "outputs": [
        {
          "output_type": "execute_result",
          "data": {
            "text/plain": [
              "array([2, 4])"
            ]
          },
          "metadata": {},
          "execution_count": 28
        }
      ]
    },
    {
      "cell_type": "code",
      "source": [
        "# random\n",
        "np.random.randn(4)"
      ],
      "metadata": {
        "colab": {
          "base_uri": "https://localhost:8080/"
        },
        "id": "tiQnPUrYJM6n",
        "outputId": "4340401d-cbc5-4982-e9ce-b0a9e13c6ecf"
      },
      "execution_count": null,
      "outputs": [
        {
          "output_type": "execute_result",
          "data": {
            "text/plain": [
              "array([1.16550647, 0.85853585, 0.17989071, 0.41791113])"
            ]
          },
          "metadata": {},
          "execution_count": 29
        }
      ]
    },
    {
      "cell_type": "code",
      "source": [
        "#  Uzunluğu 6 olan, tüm elemanları $0.0$ ile $1.0$ arasında rastgele seçilmiş ondalıklı sayılar ($float$) olan bir NumPy dizisi (vektör) oluşturur.\n",
        "# İki boyutlu bir dizi (örneğin $2 \\times 3$ matris) oluşturmak için: np.random.\n",
        "# Belirtilen aralıktaki her sayının çekilme olasılığı eşittir.Dağılım\tÜniform (Tekdüze).\n",
        "# random((2, 3))\n",
        "np.random.random(6)"
      ],
      "metadata": {
        "colab": {
          "base_uri": "https://localhost:8080/"
        },
        "id": "KTpUpAqYIcDu",
        "outputId": "6672ff95-d69f-4e90-8645-f6260c78fe1d"
      },
      "execution_count": null,
      "outputs": [
        {
          "output_type": "execute_result",
          "data": {
            "text/plain": [
              "array([0.10505825, 0.61690248, 0.78309777, 0.41058187, 0.8589074 ,\n",
              "       0.52721736])"
            ]
          },
          "metadata": {},
          "execution_count": 10
        }
      ]
    },
    {
      "cell_type": "code",
      "source": [
        "# DağılımStandart Normal (Gauss).\n",
        "# ParametrelerOrtalama ortalam = 0 ve Standart Sapma sigma = 1'dir.\n",
        "# üretilen sayılar eşit olasılığa sahip değildir.\n",
        "# Bunun nedeni, bu fonksiyonun sayıları Standart Normal Dağılım'dan (Standard Normal Distribution) çekmesidir.\n",
        "# Gerçek verileri taklit eden, ancak gizlilik gerektiren durumlarda, normal dağılımlı sentetik test verileri oluşturmak için kullanılır.\n",
        "# Sinir ağlarındaki ağırlık (weights) matrislerini başlatmak için yaygın olarak kullanılır.\n",
        "# 0'a yakın değerlerle başlamak, eğitimin daha istikrarlı olmasına yardımcı olabilir.\n",
        "np.random.randn(4,4) #we will see matrices in details"
      ],
      "metadata": {
        "colab": {
          "base_uri": "https://localhost:8080/"
        },
        "id": "xGODkBGFK4Ci",
        "outputId": "0603f1c3-787d-4a9e-948f-67bd888cb933"
      },
      "execution_count": null,
      "outputs": [
        {
          "output_type": "execute_result",
          "data": {
            "text/plain": [
              "array([[ 0.09608777, -1.21719754,  0.46252957,  1.15366035],\n",
              "       [-1.51302346,  1.4994308 , -0.80683346,  0.09576535],\n",
              "       [ 1.30775202, -0.2130547 , -0.30086242, -0.30792517],\n",
              "       [-0.58508963,  0.62554845,  1.12920938, -0.06028829]])"
            ]
          },
          "metadata": {},
          "execution_count": 30
        }
      ]
    },
    {
      "cell_type": "code",
      "source": [
        "np.random.randint(1,300,5)"
      ],
      "metadata": {
        "colab": {
          "base_uri": "https://localhost:8080/"
        },
        "id": "V5i9IFesK6PI",
        "outputId": "624b54cc-9c2e-4390-c909-dc8080033b74"
      },
      "execution_count": null,
      "outputs": [
        {
          "output_type": "execute_result",
          "data": {
            "text/plain": [
              "array([246, 276, 219,  66, 268])"
            ]
          },
          "metadata": {},
          "execution_count": 30
        }
      ]
    },
    {
      "cell_type": "code",
      "source": [],
      "metadata": {
        "id": "wBBH7HmAK7L8"
      },
      "execution_count": null,
      "outputs": []
    }
  ]
}